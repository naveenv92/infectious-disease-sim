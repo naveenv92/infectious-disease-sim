{
 "cells": [
  {
   "cell_type": "markdown",
   "metadata": {},
   "source": [
    "# Sample Simulation\n",
    "---  \n",
    "### We first import the `simulation` package"
   ]
  },
  {
   "cell_type": "code",
   "execution_count": 1,
   "metadata": {},
   "outputs": [
    {
     "name": "stdout",
     "output_type": "stream",
     "text": [
      "Using matplotlib backend: MacOSX\n"
     ]
    }
   ],
   "source": [
    "from simulation import *\n",
    "%matplotlib"
   ]
  },
  {
   "cell_type": "markdown",
   "metadata": {},
   "source": [
    "### (1) We create a `Simulation` object with the following inputs:  \n",
    "`n` &ndash; number of particles in the simulation box  \n",
    "`ninf` &ndash; number of particles initially infected  \n",
    "`r` &ndash; size of particles when shown in simulation  \n",
    "`boxSize` &ndash; size of simulation box (<i>e.g.</i> 1 &times; 1, 2 &times; 2)  \n",
    "`speed` &ndash; speed of the particles  \n",
    "`tol` &ndash; tolerance around particle for managing collisions  \n",
    "&nbsp;  \n",
    "### (2) Pass the `Simulation` object to the `runSimulation` class to run the simulation  \n",
    "&nbsp;  \n",
    "### (3) Run a single simulation with `singleSim()`"
   ]
  },
  {
   "cell_type": "code",
   "execution_count": 2,
   "metadata": {},
   "outputs": [],
   "source": [
    "# Use population density of USA as a whole (multiply by 4 since we are using a 2x2 box)\n",
    "numberOfParticles = 94*4\n",
    "\n",
    "# Create simulation object\n",
    "sim = Simulation(n=numberOfParticles, ninf=1, r=5, boxSize=2, speed=0.05, tol=0.04)\n",
    "\n",
    "# Pass Simulation object to runSimulation class\n",
    "runSim = runSimulation(simulation=sim)\n",
    "\n",
    "# Run a single simulation\n",
    "runSim.singleSim()"
   ]
  }
 ],
 "metadata": {
  "kernelspec": {
   "display_name": "Python 3",
   "language": "python",
   "name": "python3"
  },
  "language_info": {
   "codemirror_mode": {
    "name": "ipython",
    "version": 3
   },
   "file_extension": ".py",
   "mimetype": "text/x-python",
   "name": "python",
   "nbconvert_exporter": "python",
   "pygments_lexer": "ipython3",
   "version": "3.7.3"
  }
 },
 "nbformat": 4,
 "nbformat_minor": 2
}
